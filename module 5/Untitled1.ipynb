{
 "cells": [
  {
   "cell_type": "code",
   "execution_count": 3,
   "id": "483fe47d",
   "metadata": {},
   "outputs": [],
   "source": [
    "import numpy as np\n",
    "import matplotlib.pyplot as plt\n",
    "from numpy import *\n",
    "\n",
    "def banded(Aa,va,up,down):\n",
    "\n",
    "    # Copy the inputs and determine the size of the system\n",
    "    A = copy(Aa)\n",
    "    v = copy(va)\n",
    "    N = len(v)\n",
    "\n",
    "    # Gaussian elimination\n",
    "    for m in range(N):\n",
    "\n",
    "        # Normalization factor\n",
    "        div = A[up,m]\n",
    "\n",
    "        # Update the vector first\n",
    "        v[m] /= div\n",
    "        for k in range(1,down+1):\n",
    "            if m+k<N:\n",
    "                v[m+k] -= A[up+k,m]*v[m]\n",
    "\n",
    "        # Now normalize the pivot row of A and subtract from lower ones\n",
    "        for i in range(up):\n",
    "            j = m + up - i\n",
    "            if j<N:\n",
    "                A[i,j] /= div\n",
    "                for k in range(1,down+1):\n",
    "                    A[i+k,j] -= A[up+k,m]*A[i,j]\n",
    "\n",
    "    # Backsubstitution\n",
    "    for m in range(N-2,-1,-1):\n",
    "        for i in range(up):\n",
    "            j = m + up - i\n",
    "            if j<N:\n",
    "                v[m] -= A[i,j]*v[j]\n",
    "\n",
    "    return v"
   ]
  },
  {
   "cell_type": "code",
   "execution_count": 4,
   "id": "3c168789",
   "metadata": {},
   "outputs": [],
   "source": [
    "#define the variables\n",
    "\n",
    "h = 1e-18\n",
    "hbar = 1.0546e-34\n",
    "L = 1e-8\n",
    "M = 9.109e-31\n",
    "N = 1000 # Grid slices\n",
    "x0 = L/2\n",
    "sigma = 1e-10\n",
    "k = 5e10\n",
    "\n",
    "a = L/N\n",
    "\n",
    "#matrix entries\n",
    "a1 = 1 + (h*hbar*1j)/(2*M*a**2)\n",
    "a2 = (-h*hbar*1j)/(4*M*a**2)\n",
    "b1 =  1 - (h*hbar*1j)/(2*M*a**2)\n",
    "b2 =  (h*hbar*1j)/(4*M*a**2)\n",
    "\n",
    "psi = np.zeros(N+1,complex)"
   ]
  },
  {
   "cell_type": "code",
   "execution_count": 6,
   "id": "d187a97f",
   "metadata": {},
   "outputs": [
    {
     "data": {
      "text/plain": [
       "array([[-0.-0.28943902j, -0.-0.28943902j, -0.-0.28943902j, ...,\n",
       "        -0.-0.28943902j, -0.-0.28943902j, -0.-0.28943902j],\n",
       "       [ 1.+0.57887803j,  1.+0.57887803j,  1.+0.57887803j, ...,\n",
       "         1.+0.57887803j,  1.+0.57887803j,  1.+0.57887803j],\n",
       "       [-0.-0.28943902j, -0.-0.28943902j, -0.-0.28943902j, ...,\n",
       "        -0.-0.28943902j, -0.-0.28943902j, -0.-0.28943902j]])"
      ]
     },
     "execution_count": 6,
     "metadata": {},
     "output_type": "execute_result"
    }
   ],
   "source": [
    "#define wavefunction\n",
    "def psi0(x):\n",
    "    return (exp((-(x-x0)**2)/(2*sigma**2)))*exp(1j*k*x)\n",
    "\n",
    "#define matrices\n",
    "x = np.linspace(0,L,N+1)\n",
    "psi[:] = psi0(x)\n",
    "psi[[0,N]]=0\n",
    "\n",
    "A = np.empty((3,N),complex)\n",
    "\n",
    "A[0,:] = a2\n",
    "A[1,:] = a1\n",
    "A[2:,] = a2\n",
    "\n",
    "#define v1 and store in array\n",
    "v1 = b1*psi[1:N] + b2*(psi[2:N+1] + psi[0:N-1])\n",
    "np.array(v1)"
   ]
  },
  {
   "cell_type": "code",
   "execution_count": 8,
   "id": "2f33cdd3",
   "metadata": {},
   "outputs": [],
   "source": [
    "#solve matrices and plot\n",
    "psi1 = banded(A, v1, 1, 1)\n",
    "# plt.plot(x[0:999], np.real(psi1[:1000]))\n",
    "# plt.show()"
   ]
  }
 ],
 "metadata": {
  "kernelspec": {
   "display_name": "Python 3 (ipykernel)",
   "language": "python",
   "name": "python3"
  },
  "language_info": {
   "codemirror_mode": {
    "name": "ipython",
    "version": 3
   },
   "file_extension": ".py",
   "mimetype": "text/x-python",
   "name": "python",
   "nbconvert_exporter": "python",
   "pygments_lexer": "ipython3",
   "version": "3.9.13"
  }
 },
 "nbformat": 4,
 "nbformat_minor": 5
}
