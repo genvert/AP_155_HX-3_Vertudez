{
 "cells": [
  {
   "cell_type": "markdown",
   "metadata": {
    "id": "G0BcK0H_G1Iu"
   },
   "source": [
    "# **AP155 Lab Assignment** \n",
    "## Module 4: Fourier Transforms\n",
    "\n",
    "_Instructions_: Answer each problem as completely as you can. Discuss **all** your answers as clearly and concisely as possible. \n",
    "\n",
    "_Scoring Criteria_: 50% - *correctness of code*; 50% - *discussion of the code and results*. Maximum score is **100 points** (Problems 1 to 3 are worth 20, 30, and 50 points, respectively).\n",
    "\n",
    "_Due Date_: **5PM of November 23 (Tue)**\n"
   ]
  },
  {
   "cell_type": "markdown",
   "metadata": {
    "id": "PeHZ9kP8JaVR"
   },
   "source": [
    "### Student Information \n",
    "\n",
    "_Full Name (Last Name, First Name)_: Vertudez, Genesis\\\n",
    "_Student No._: 202003099\\\n",
    "_Section_: HX-3"
   ]
  },
  {
   "cell_type": "markdown",
   "metadata": {
    "id": "Hc183co-J4eI"
   },
   "source": [
    "### Submission Information\n",
    "\n",
    "_Date and Time Submitted (most recent upload)_: \n",
    "\n",
    "**HONOR PLEDGE** I affirm that I have upheld the highest principles of honesty and integrity in my academic work and that this lab assignment is my own work.\n",
    "\n",
    "**Sign here with your full name:** GENESIS R. VERTUDEZ"
   ]
  },
  {
   "cell_type": "markdown",
   "metadata": {
    "id": "MFCyuui5gQfO"
   },
   "source": [
    "### Grading Information (c/o Lab Instructor)\n",
    "\n",
    "TOTAL SCORE: **[]**/100\n",
    "\n",
    "Score breakdown:\n",
    "* Problem 1 - []/20\n",
    "* Problem 2 - []/30\n",
    "* Problem 3 - []/50\n",
    "\n",
    "_Date and Time Scored (MM/DD/YYYY HH:MM AM/PM):_ "
   ]
  },
  {
   "cell_type": "markdown",
   "metadata": {
    "id": "LxWuqiCFMsEh"
   },
   "source": [
    "### PROBLEM 1 (20 pts.; 50/50 for code & discussion) \n",
    "**Fourier transform of a simple function**\n",
    "\n",
    "1. Calculate the coefficients in the discrete Fourier transforms of the modulated sine wave $y_n = \\sin(\\pi n/N) sin(20\\pi n/N)$ sampled at $N = 1000$ evenly spaced points using your own user-defined function. *(10 pts.)*\n",
    "\n",
    "2. Make a plot of their amplitudes similar to the plot shown in Fig. 7.4 of the Newman text. *(10 pts.)*\n"
   ]
  },
  {
   "cell_type": "code",
   "execution_count": null,
   "metadata": {
    "id": "hMqWOsbIMoUh"
   },
   "outputs": [],
   "source": [
    "c_k = "
   ]
  },
  {
   "cell_type": "markdown",
   "metadata": {
    "id": "kBX9EyMLOnXj"
   },
   "source": [
    "### PROBLEM 2 (30 pts.; 50/50 for code & discussion)\n",
    "\n",
    "**Fourier filtering**\n",
    "\n",
    "For this problem, you will use data from a text file called $\\tt dow.txt$. It contains the daily closing value for each business day from late 2006 until the end of 2010 of the Dow Jones Industrial Average, which is a measure of average prices on the US stock market.\n",
    "\n",
    "First, you need to make a copy of the file $\\tt dow.txt$ and save it to a folder in your **own Google Drive**. This file is available from the AP155 Course Pack Google Drive (in the General > Datasets folder) and directly from this link: https://drive.google.com/file/d/1CHXGF2s9HvKJPTVRWeq5tJpgFxYuOgOg/view?usp=sharing\n",
    "\n",
    "The code cells below will (1) mount Google Drive and (2) load the data from your Google Drive. Follow the instructions below to load the data. Then, do the following:\n",
    "\n",
    "1. Plot the data on a graph. *(5 pts.)*\n",
    "\n",
    "2. Calculate the coefficients of the discrete Fourier transform of the data using the function $\\tt rfft$ from numpy's $\\tt fft$ library, which produces an array of $\\frac{1}{2}N +1$ complex numbers. *(10 pts.)*\n",
    "\n",
    "3. Now set all but the first 10% of the elements of this array to zero (i.e., set the last 90% to zero but keep the values of the first 10%). *(5 pts.)* \n",
    "\n",
    "4. Calculate the inverse Fourier transform of the resulting array, zeros and all, using the function $\\tt irfft$, and plot it on the same graph as the original data. You may need to vary the colors of the two curves to make sure they both show up on the graph. Comment on what you see. What is happening when you set the Fourier coefficients to zero? *(10 pts.)*"
   ]
  },
  {
   "cell_type": "markdown",
   "metadata": {
    "id": "IZLbcI2JXrzX"
   },
   "source": [
    "Use numpy's $\\tt loadtxt$ function ([documentation](https://numpy.org/doc/stable/reference/generated/numpy.loadtxt.html)) to load the $\\tt dow.txt$ file and save the data into a numpy array named $\\tt dow$."
   ]
  },
  {
   "cell_type": "code",
   "execution_count": 2,
   "metadata": {
    "id": "hsZtgnaNXqrw"
   },
   "outputs": [],
   "source": [
    "import numpy as np\n",
    "dow = np.loadtxt(\"dow.txt\")"
   ]
  },
  {
   "cell_type": "markdown",
   "metadata": {
    "id": "vCatbEiLY2iT"
   },
   "source": [
    "Print out the first 10 elements of the array $\\tt dow$. Check that you get the ff. output:\n",
    "```\n",
    "array([12121.71, 12136.44, 12226.73, 12221.93, 12194.13, 12283.85, 12331.6 , 12309.25, 12278.41, 12307.48])\n",
    "``` "
   ]
  },
  {
   "cell_type": "code",
   "execution_count": 3,
   "metadata": {
    "colab": {
     "base_uri": "https://localhost:8080/",
     "height": 51
    },
    "id": "EWfggllVY246",
    "outputId": "82261621-7a57-48e5-a3eb-f4e327cfa59c"
   },
   "outputs": [
    {
     "data": {
      "text/plain": [
       "array([12121.71, 12136.44, 12226.73, 12221.93, 12194.13, 12283.85,\n",
       "       12331.6 , 12309.25, 12278.41, 12307.48])"
      ]
     },
     "execution_count": 3,
     "metadata": {},
     "output_type": "execute_result"
    }
   ],
   "source": [
    "dow[0:10]"
   ]
  },
  {
   "cell_type": "markdown",
   "metadata": {
    "id": "OqpE1nAXZc2-"
   },
   "source": [
    "Now you can start to write code for this problem!"
   ]
  },
  {
   "cell_type": "code",
   "execution_count": null,
   "metadata": {
    "id": "R0g43FSaZdBz"
   },
   "outputs": [],
   "source": []
  },
  {
   "cell_type": "markdown",
   "metadata": {
    "id": "Hs6zy-yraBeY"
   },
   "source": [
    "### PROBLEM 3 (50 pts.; 50/50 for code & discussion)\n",
    "\n",
    "**Real-world Application: Image deconvolution**\n",
    "\n",
    "_Refer to Exercise 7.9 of the Newman text_ For this problem, you will use data from a text file called $\\tt blur.txt$. It contains a grid of values representing brightness on a black-and-white photo-- a badly out-of-focus one that has been deliberately blurred using a Gaussian point spread function of width $\\sigma = 25$. \n",
    "\n",
    "Similar to what you did for Problem 2, you need to make a copy of the file $\\tt blur.txt$ and save it to the same folder in your **own Google Drive** where you saved $\\tt dow.txt$. This file is available from the AP155 Course Pack Google Drive (in the General > Datasets folder) and directly from this link: https://drive.google.com/file/d/1CHXGF2s9HvKJPTVRWeq5tJpgFxYuOgOg/view?usp=sharing\n",
    "\n",
    "1. Use numpy's $\\tt loadtxt$ to load the grid of values into a two-dimensional array of real numbers, e.g.:\n",
    "```\n",
    "blur = np.loadtxt(file_path+\"blur.txt\")\n",
    "``` \n",
    "Plot the values on the screen of the computer as a density plot. (Hint: Use $\\tt imshow$ and $\\tt show$ from the pylab package.) You should see the photo appear. If you get something wrong it might be upside-down. Work with the details of your program until you get it appearing correctly. (Hint: The picture has the sky, which is bright, at the top and the ground, which is dark, at the bottom.) *(10 pts.)*\n",
    "\n",
    "2. Create an array of the point spread function (PSF), of the same size as the photo, based on the Gaussian function $f(x,y) = exp\\left(-\\frac{x^2+y^2}{2\\sigma^2}\\right)$. In particular, get the sum of 4 Gaussians with $\\sigma = 25$ centered on each of the four corners of the image. _Refer to the figure on page 325 of the Newman text._ *(10 pts.)*\n",
    "\n",
    "3. Make a density plot of these values on the screen, so that you get a visualization of your point spread function. *(10 pts.)*\n",
    "\n",
    "3. Apply Fourier transforms using the functions $\\tt rfft2$ and $\\tt irfft2$ from numpy's $\\tt fft$ package to perform image deconvolution as follows:\n",
    "\n",
    "* Get Fourier transforms of both the blurred image and the PSF from (1) and (2) \n",
    "* Divide one by the other\n",
    "* Perform an inverse transform to get the unblurred photo\n",
    "* Display the unblurred photo on the screen\n",
    "\n",
    "When you are done, you should be able to make out the scene in the photo, although probably it will still not be perfectly sharp. *(20 pts.)*\n",
    "\n",
    "   Hint: One thing you'll need to deal with is what happens when the Fourier transform of the point spread function is zero, or close to zero. In that case if you divide by it you'll get an error (because you can't divide by zero) or just a very\n",
    "large number (because you're dividing by something small). A workable compromise is that if a value in the Fourier transform of the point spread function is smaller than a certain amount $\\epsilon$ you don't divide by it-- just leave that coefficient alone. The value of $\\epsilon$ is not very critical but a reasonable value seems to be $10^{-3}$. "
   ]
  },
  {
   "cell_type": "code",
   "execution_count": null,
   "metadata": {
    "id": "nMx3AX6iaF8Q"
   },
   "outputs": [],
   "source": []
  }
 ],
 "metadata": {
  "colab": {
   "provenance": []
  },
  "kernelspec": {
   "display_name": "Python 3 (ipykernel)",
   "language": "python",
   "name": "python3"
  },
  "language_info": {
   "codemirror_mode": {
    "name": "ipython",
    "version": 3
   },
   "file_extension": ".py",
   "mimetype": "text/x-python",
   "name": "python",
   "nbconvert_exporter": "python",
   "pygments_lexer": "ipython3",
   "version": "3.9.13"
  }
 },
 "nbformat": 4,
 "nbformat_minor": 1
}
