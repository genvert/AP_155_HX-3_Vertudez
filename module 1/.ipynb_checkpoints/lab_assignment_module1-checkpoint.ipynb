{
 "cells": [
  {
   "cell_type": "markdown",
   "metadata": {
    "id": "G0BcK0H_G1Iu"
   },
   "source": [
    "# **AP155 Lab Assignment** \n",
    "## Module 1: Integrals and Derivatives\n",
    "\n",
    "_Instructions_: Answer each problem as completely as you can. Discuss **all** your answers as clearly and concisely as possible. \n",
    "\n",
    "_Scoring Criteria_: 50% - *correctness of code*; 50% - *discussion of the code and results*. Maximum score is **100 points** (Problems 1 to 5 are worth 20, 20, 10, 30, and 20 points, respectively).\n",
    "\n",
    "_Due Date_: **5PM of November 3 (Thu)**\n",
    "\n"
   ]
  },
  {
   "cell_type": "markdown",
   "metadata": {
    "id": "PeHZ9kP8JaVR"
   },
   "source": [
    "### Student Information \n",
    "\n",
    "_Full Name (Last Name, First Name)_: Vertudez, Genesis \\\n",
    "_Student No._: 202003099 \\\n",
    "_Section_: HX-3"
   ]
  },
  {
   "cell_type": "markdown",
   "metadata": {
    "id": "Hc183co-J4eI"
   },
   "source": [
    "### Submission Information\n",
    "\n",
    "_Date and Time Submitted (most recent upload)_: Nov. 10, 2022\n",
    "\n",
    "**HONOR PLEDGE** I affirm that I have upheld the highest principles of honesty and integrity in my academic work and that this lab assignment is my own work.\n",
    "\n",
    "**Sign here with your full name:** GENESIS R. VERTUDEZ"
   ]
  },
  {
   "cell_type": "markdown",
   "metadata": {
    "id": "X1UGsRpW-eQs"
   },
   "source": [
    "### Grading Information (c/o Lab Instructor)\n",
    "\n",
    "TOTAL SCORE: **XX**/100\n",
    "\n",
    "Score breakdown:\n",
    "* Problem 1 - XX/20\n",
    "* Problem 2 - XX/20\n",
    "* Problem 3 - XX/10\n",
    "* Problem 4 - XX/30\n",
    "* Problem 5 - XX/20\n",
    "\n",
    "_Date and Time Scored (MM/DD/YYYY HH:MM AM/PM):_ "
   ]
  },
  {
   "cell_type": "markdown",
   "metadata": {
    "id": "LxWuqiCFMsEh"
   },
   "source": [
    "### PROBLEM 1 (20 pts.) \n",
    "**Integration using the trapezoidal rule and Simpson's rule**\n",
    "\n",
    "Calculate the integral of the function $ 2x^4 + 3x^2 + 4x + 5$ from $x=0$ to $x=5$.\n",
    "\n",
    "1. Do the numerical calculation using the trapezoidal rule with 10, 100, and 1,000 slices. Describe each step of the calculation clearly and concisely. *(8 pts.; 4 pts. for the code & 4 pts. for the discussion text)*\n",
    "\n",
    "2. What are the percentage errors of your answers in (1)? *(2 pts.)*\n",
    "\n",
    "3. Repeat the calculation using Simpson's rule with 10, 100, and 1,000 slices. Describe each step of the calculation clearly and concisely. *(8 pts.;  4 pts. for the code & 4 pts. for the discussion text)*\n",
    "\n",
    "4. What are the percentage errors of your answers in (3)? How do they compare with the results from (1) for the same number of slices? *(2 pts.)*"
   ]
  },
  {
   "cell_type": "code",
   "execution_count": 40,
   "metadata": {},
   "outputs": [],
   "source": [
    "import numpy as np\n",
    "import pandas as pd\n",
    "import matplotlib.pyplot as plt\n",
    "\n",
    "# Define the function\n",
    "def f(x):\n",
    "    return 2*x**4 + 3*x**2 + 4*x + 5\n",
    "\n",
    "# Set the constants and/or variables\n",
    "\n",
    "N = np.array([10,100,1000])    # number of slices stored in an array\n",
    "a = 0                          # lower limit of integral\n",
    "b = 5                          # upper limit of integral\n",
    "h = (b-a)/N                    # width of each slice"
   ]
  },
  {
   "cell_type": "code",
   "execution_count": 41,
   "metadata": {},
   "outputs": [
    {
     "name": "stdout",
     "output_type": "stream",
     "text": [
      "1.) The integral using trapezoidal rule for each number of slices:\n",
      "\n",
      "\t10 slices: 1471.4375\n",
      "\t100 slices: 1450.2145812500003\n",
      "\t1000 slices: 1450.0021458331234\n"
     ]
    }
   ],
   "source": [
    "# 1.\n",
    "\n",
    "I_trap = np.zeros(len(N))      # initialize an array, we will store the calculated integrals for trapezoidal rule here\n",
    "\n",
    "print('1.) The integral using trapezoidal rule for each number of slices:\\n')\n",
    "\n",
    "# Trapezoidal rule\n",
    "\n",
    "for i in range(len(N)):        # loops each case of number of slices\n",
    "    s = 0.5*f(a) + 0.5*f(b)    # initialize the sum\n",
    "    \n",
    "    for k in range(1,N[i]):    # Note that the summation is from 1 to N-1, but in python,\n",
    "        s += f(a+k*h[i])          # the range is exclusive of the upper bound so we use range(1,N)\n",
    "        I_trap[i] = h[i]*s     # store corresponding answers in the array we initialized\n",
    "    \n",
    "    print('\\t{} slices: {}'.format(N[i], I_trap[i]))"
   ]
  },
  {
   "cell_type": "code",
   "execution_count": 42,
   "metadata": {},
   "outputs": [
    {
     "name": "stdout",
     "output_type": "stream",
     "text": [
      "Solving the integral manually, the answer is 1450.0.\n",
      "\n"
     ]
    }
   ],
   "source": [
    "# Manual integration\n",
    "\n",
    "# Define the indefinite integral\n",
    "def int_f(x):\n",
    "    return (2*x**5)/5 + x**3 + 2*x**2 + 5*x\n",
    "\n",
    "# Solve the definite integral\n",
    "I_manual = int_f(b) - int_f(a)\n",
    "\n",
    "print('Solving the integral manually, the answer is {}.\\n'.format(I_manual))"
   ]
  },
  {
   "cell_type": "code",
   "execution_count": 43,
   "metadata": {
    "id": "hMqWOsbIMoUh"
   },
   "outputs": [
    {
     "name": "stdout",
     "output_type": "stream",
     "text": [
      "2.) The percent error using trapezoidal rule for each number of slices is:\n",
      "\t 10 slices: 1.478448275862069 %\n",
      "\t 100 slices: 0.014798706896569988 %\n",
      "\t 1000 slices: 0.00014798849127240326 %\n"
     ]
    }
   ],
   "source": [
    "# 2.\n",
    "\n",
    "# Define a percent error calculator, I just attached a % symbol\n",
    "def percentError(exp, theo):\n",
    "    percent = abs((exp-theo)/theo)*100\n",
    "    return percent\n",
    "\n",
    "E_trap = np.zeros(len(N))       # initialize an array, we will store here the percent errors for trapezoidal rule\n",
    "\n",
    "print('2.) The percent error using trapezoidal rule for each number of slices is:')\n",
    "for i in range(len(N)):         # loops each case of number of slices\n",
    "    E_trap[i] = percentError(I_trap[i], I_manual)\n",
    "    print('\\t {} slices: {} %'.format(N[i], E_trap[i]))"
   ]
  },
  {
   "cell_type": "code",
   "execution_count": 44,
   "metadata": {},
   "outputs": [
    {
     "name": "stdout",
     "output_type": "stream",
     "text": [
      "3.) The integral using Simpson's rule for each number of slices:\n",
      "\n",
      "\t10 slices: 1450.0833333333333\n",
      "\t100 slices: 1450.0000083333334\n",
      "\t1000 slices: 1450.0000000008333\n"
     ]
    }
   ],
   "source": [
    "# 3.\n",
    "\n",
    "# Simpson's rule\n",
    "\n",
    "I_simp = np.zeros(len(N))       # initialize an array, we will store the calculated integrals for Simpson's rule here\n",
    "\n",
    "print('3.) The integral using Simpson\\'s rule for each number of slices:\\n')\n",
    "\n",
    "for i in range(len(N)):        # loops each case of number of slices\n",
    "    s = f(a) + f(b)\n",
    "    for k in range(1,N[i]):   \n",
    "        if k % 2 == 1:         # for odd sum indices\n",
    "            s += 4*f(a+k*h[i])\n",
    "        else:                  # for even sum indices\n",
    "            s += 2*f(a+k*h[i])\n",
    "        I_simp[i] = (h[i]/3)*s     # store corresponding answers in the array we initialized\n",
    "    print('\\t{} slices: {}'.format(N[i], I_simp[i]))"
   ]
  },
  {
   "cell_type": "code",
   "execution_count": 45,
   "metadata": {},
   "outputs": [
    {
     "name": "stdout",
     "output_type": "stream",
     "text": [
      "4.) The percent error using Simpson's rule for each number of slices is:\n",
      "\n",
      "\t 10 slices: 0.005747126436776382 %\n",
      "\t 100 slices: 5.747126500676226e-07 %\n",
      "\t 1000 slices: 5.7470656586168655e-11 %\n",
      "\n",
      "Comparing, here are the percent errors using trapezoidal rule and Simpson's rule (Trapezoidal rule / Simpson's rule):\n",
      "\n",
      "10 slices: 1.478448275862069 / 0.005747126436776382\n",
      "100 slices: 0.014798706896569988 / 5.747126500676226e-07\n",
      "1000 slices: 0.00014798849127240326 / 5.7470656586168655e-11\n",
      "\n",
      "We see that the Simpson's rule gives smaller percent error, i.e., more accurate answers.\n"
     ]
    }
   ],
   "source": [
    "# 4.\n",
    "\n",
    "E_simp = np.zeros(len(N))       # initialize an array, we will store here the percent errors for trapezoidal rule\n",
    "\n",
    "print('4.) The percent error using Simpson\\'s rule for each number of slices is:\\n')\n",
    "for i in range(len(N)):         # loops each case of number of slices\n",
    "    E_simp[i] = percentError(I_simp[i], I_manual)\n",
    "    print('\\t {} slices: {} %'.format(N[i], E_simp[i]))\n",
    "    \n",
    "print('\\nComparing, here are the percent errors using trapezoidal rule and Simpson\\'s rule (Trapezoidal rule / Simpson\\'s rule):\\n')\n",
    "for i in range(len(N)):\n",
    "    print('{} slices: {} / {}'.format(N[i], E_trap[i], E_simp[i]))\n",
    "    \n",
    "print('\\nWe see that the Simpson\\'s rule gives smaller percent error, i.e., more accurate answers.')"
   ]
  },
  {
   "cell_type": "markdown",
   "metadata": {
    "id": "kBX9EyMLOnXj"
   },
   "source": [
    "### PROBLEM 2 (20 pts.)\n",
    "\n",
    "**Integration using the adaptive trapezoidal rule method and Romberg integration**\n",
    "\n",
    "Calculate the integral $ I = \\int_0^1 \\sin^2 \\sqrt{100x} \\mbox{d}x $.\n",
    "\n",
    "1. Do the numerical calculation using the adaptive trapezoidal rule method to an approximate accuracy of $\\epsilon = 10^{-6}$. Start with one single integration slice and work up from there to two, four, eight, and so forth. Save and print out the number of slices, its estimate of the integral, and its estimate of the error on the integral, for each value of the number of slices $N$, until the target accuracy is reached. *(8 pts.; 4 pts. for the code & 4 pts. for the discussion text)*\n",
    "\n",
    "2. Repeat the calculation using the Romberg integration technique. Save and print out the same variables as in (1). *(8 pts.; 4 pts. for the code & 4 pts. for the discussion text)*\n",
    "\n",
    "3. Compare the results from both calculations by creating a plot of error estimates vs. $N$. Annotate your chart completely (include proper axis labels and legend). Describe how the trends for the two techniques compare. *(4 pts.; 2 pts. for the chart & 2 pts. for the discussion text)*"
   ]
  },
  {
   "cell_type": "code",
   "execution_count": 46,
   "metadata": {
    "id": "GABjwlXCR97i"
   },
   "outputs": [],
   "source": [
    "# 1.\n",
    "\n",
    "# Define the function, i used the sine function from numpy\n",
    "def g(x):\n",
    "    return (np.sin((100*x)**(0.5)))**2\n",
    "\n",
    "N = 1\n",
    "a = 0\n",
    "b = 1\n",
    "h = (b-a)/N\n",
    "epsilon = 1e-6     # target error\n",
    "\n",
    "# initialize lists to be put in dataframe (to be used for plotting later, and for more organized display of answers)\n",
    "N_list = []            # no. of slices\n",
    "I_est_list = []        # integral estimates for each no. of slice\n",
    "error_adap_trap_list = []        # error estimate for each integral estimate"
   ]
  },
  {
   "cell_type": "code",
   "execution_count": 51,
   "metadata": {},
   "outputs": [],
   "source": [
    "# Normal trapezoidal rule\n",
    "N_list.append(N)                       # append N=1 to N_list\n",
    "s = 0.5*g(a) + 0.5*g(b)                # initialize the sum\n",
    "\n",
    "for k in range(1,N):                   # Note that the summation is from 1 to N-1, but in python,\n",
    "    s += g(a+k*h)                           # the range is exclusive of the upper bound so we use range(1,N)\n",
    "\n",
    "I_adap_trap_1 = h*s                    # store corresponding answers\n",
    "I_est_list.append(I_adap_trap_1)       # append integral estimate for N=1\n",
    "error_trap = (1/3)*abs(I_adap_trap_1)        # I equated it because this will be the basis for the error\n",
    "error_adap_trap_list.append(error_trap)          # append error estimate for N=1"
   ]
  },
  {
   "cell_type": "code",
   "execution_count": null,
   "metadata": {},
   "outputs": [],
   "source": [
    "# Adaptive trapezoidal rule\n",
    "\n",
    "adap_trap_df = pd.DataFrame()          # initialize a dataframe for the answers\n",
    "\n",
    "while abs(error_trap) > epsilon:          # loop until calculated error is less than target error, meaning we reached our desired accuracy\n",
    "    I_adap_trap_2 = 0.5*I_adap_trap_1     # initialize the integral estimation\n",
    "    N*=2                                  # double number of slices\n",
    "    N_list.append(N)                      # append each doubled N to the list\n",
    "    h*=0.5                                # half the h\n",
    "    \n",
    "    for k in range(1,N,2):                # summation over odd indices\n",
    "        I_adap_trap_2 += h*g(a+k*h)\n",
    "    \n",
    "    I_est_list.append(I_adap_trap_2)      # append each integral estimate to the list\n",
    "    error_trap = (1/3)*abs(I_adap_trap_2 - I_adap_trap_1)     # formula for error\n",
    "    error_adap_trap_list.append(error_trap)         # append each error estimate to the list\n",
    "    I_adap_trap_1 = I_adap_trap_2         # recurse\n",
    "\n",
    "# assign each list to a new column in the dataframe\n",
    "adap_trap_df['No. of slices'] = N_list\n",
    "adap_trap_df['Integral estimate'] = I_est_list\n",
    "adap_trap_df['Error'] = error_adap_trap_list\n",
    "adap_trap_df['Target error (constant)'] = epsilon\n",
    "print('Adaptive trapezoidal')\n",
    "adap_trap_df"
   ]
  },
  {
   "cell_type": "code",
   "execution_count": 49,
   "metadata": {},
   "outputs": [
    {
     "name": "stdout",
     "output_type": "stream",
     "text": [
      "Romberg integration\n"
     ]
    },
    {
     "data": {
      "text/html": [
       "<div>\n",
       "<style scoped>\n",
       "    .dataframe tbody tr th:only-of-type {\n",
       "        vertical-align: middle;\n",
       "    }\n",
       "\n",
       "    .dataframe tbody tr th {\n",
       "        vertical-align: top;\n",
       "    }\n",
       "\n",
       "    .dataframe thead th {\n",
       "        text-align: right;\n",
       "    }\n",
       "</style>\n",
       "<table border=\"1\" class=\"dataframe\">\n",
       "  <thead>\n",
       "    <tr style=\"text-align: right;\">\n",
       "      <th></th>\n",
       "      <th>No. of slices</th>\n",
       "      <th>Integral estimate</th>\n",
       "      <th>Error</th>\n",
       "    </tr>\n",
       "  </thead>\n",
       "  <tbody>\n",
       "    <tr>\n",
       "      <th>0</th>\n",
       "      <td>1</td>\n",
       "      <td>0.147979</td>\n",
       "      <td>5.908414e-02</td>\n",
       "    </tr>\n",
       "    <tr>\n",
       "      <th>1</th>\n",
       "      <td>2</td>\n",
       "      <td>0.369545</td>\n",
       "      <td>5.908414e-02</td>\n",
       "    </tr>\n",
       "    <tr>\n",
       "      <th>2</th>\n",
       "      <td>4</td>\n",
       "      <td>0.570889</td>\n",
       "      <td>1.263337e-02</td>\n",
       "    </tr>\n",
       "    <tr>\n",
       "      <th>3</th>\n",
       "      <td>8</td>\n",
       "      <td>0.360986</td>\n",
       "      <td>3.280538e-03</td>\n",
       "    </tr>\n",
       "    <tr>\n",
       "      <th>4</th>\n",
       "      <td>16</td>\n",
       "      <td>0.442216</td>\n",
       "      <td>3.173098e-04</td>\n",
       "    </tr>\n",
       "    <tr>\n",
       "      <th>5</th>\n",
       "      <td>32</td>\n",
       "      <td>0.454267</td>\n",
       "      <td>1.176835e-05</td>\n",
       "    </tr>\n",
       "    <tr>\n",
       "      <th>6</th>\n",
       "      <td>64</td>\n",
       "      <td>0.455459</td>\n",
       "      <td>2.911493e-07</td>\n",
       "    </tr>\n",
       "  </tbody>\n",
       "</table>\n",
       "</div>"
      ],
      "text/plain": [
       "   No. of slices  Integral estimate         Error\n",
       "0              1           0.147979  5.908414e-02\n",
       "1              2           0.369545  5.908414e-02\n",
       "2              4           0.570889  1.263337e-02\n",
       "3              8           0.360986  3.280538e-03\n",
       "4             16           0.442216  3.173098e-04\n",
       "5             32           0.454267  1.176835e-05\n",
       "6             64           0.455459  2.911493e-07"
      ]
     },
     "execution_count": 49,
     "metadata": {},
     "output_type": "execute_result"
    }
   ],
   "source": [
    "# Romberg integration\n",
    "\n",
    "romberg_df = pd.DataFrame()\n",
    "\n",
    "romberg_list = []\n",
    "romberg_last_list = []\n",
    "\n",
    "error_rom = (1/(4**1 - 1))*(adap_trap_df['Integral estimate'][1] - adap_trap_df['Integral estimate'][0])\n",
    "\n",
    "error_rom_list = []\n",
    "\n",
    "i = 0\n",
    "m = 0\n",
    "while abs(error_rom) > epsilon:\n",
    "    if m == 0:\n",
    "        R_im = adap_trap_df['Integral estimate'][i]\n",
    "        romberg_list.append([R_im])\n",
    "    else:\n",
    "        R_im = romberg_list[i][m-1] + (1/(4**(m)))*(romberg_list[i][m-1] - romberg_list[i-1][m-1])\n",
    "        romberg_list[i].append(R_im)\n",
    "        \n",
    "    if i != m:\n",
    "        error_rom = abs((1/(4**(m+1) - 1))*(romberg_list[i][m] - romberg_list[i-1][m]))\n",
    "        m += 1\n",
    "    else:\n",
    "        i += 1\n",
    "        m = 0\n",
    "        error_rom_list.append(error_rom)\n",
    "        romberg_last_list.append(R_im)\n",
    "    \n",
    "error_rom_list.append(error_rom)\n",
    "romberg_last_list.append(R_im)\n",
    "\n",
    "N_rom_list = N_list[:len(error_rom_list)]\n",
    "romberg_df['No. of slices'] = N_rom_list\n",
    "romberg_df['Integral estimate'] = romberg_last_list\n",
    "romberg_df['Error'] = error_rom_list\n",
    "print('Romberg integration')\n",
    "romberg_df"
   ]
  },
  {
   "cell_type": "code",
   "execution_count": 50,
   "metadata": {},
   "outputs": [
    {
     "data": {
      "image/png": "[encoded data removed]",
      "text/plain": [
       "<Figure size 432x288 with 1 Axes>"
      ]
     },
     "metadata": {
      "needs_background": "light"
     },
     "output_type": "display_data"
    }
   ],
   "source": [
    "fig, ax = plt.subplots()\n",
    "\n",
    "ax.plot(adap_trap_df['No. of slices'], adap_trap_df['Error'], label='Adaptive trapezoidal rule', marker='s')\n",
    "ax.plot(romberg_df['No. of slices'], romberg_df['Error'], label='Romberg integration', marker='s')\n",
    "ax.plot(adap_trap_df['No. of slices'], adap_trap_df['Target error (constant)'], label='Target error', linestyle='--')\n",
    "\n",
    "\n",
    "\n",
    "ax.set_xscale('log')\n",
    "ax.set_yscale('log')\n",
    "\n",
    "ax.set_xlabel('No. of slices N')\n",
    "ax.set_ylabel('Error estimate')\n",
    "\n",
    "plt.xlim(1,4500)\n",
    "plt.ylim(10e-8,10)\n",
    "plt.title('Comparison of integration techniques')\n",
    "plt.legend()\n",
    "plt.show()"
   ]
  },
  {
   "cell_type": "markdown",
   "metadata": {
    "id": "m2a6sg90R-NX"
   },
   "source": [
    "### PROBLEM 3 (10 pts.)\n",
    "\n",
    "**Integration using Gaussian quadrature**\n",
    "\n",
    "Calculate the integral from Problem 1 using the Gaussian quadrature method: $ 2x^4 + 3x^2 + 4x + 5$ from $x=0$ to $x=5$.\n",
    "\n",
    "1. Define the function $\\tt gaussxw$ from Appendix E of the Newman text (and run the cell). *(2 pts.)*\n",
    "\n",
    "2. Calculate the integral using the $\\tt gaussxw$ function in (1) and number of slices $N = 3$. Describe each step in the calculation clearly and concisely. *(8 pts.; 4 pts. for the code & 4 pts. for the discussion text)*"
   ]
  },
  {
   "cell_type": "code",
   "execution_count": null,
   "metadata": {
    "id": "YO_PDJ4VIVs5"
   },
   "outputs": [],
   "source": []
  },
  {
   "cell_type": "markdown",
   "metadata": {
    "id": "HceOjNu-VfN9"
   },
   "source": [
    "### PROBLEM 4 (30 pts.)\n",
    "\n",
    "**Physics Application: Anharmonic Oscillator**\n",
    "\n",
    "_Refer to Exercise 5.10 of the Newman text._ Consider an anharmonic oscillator with potential $V(x)$ symmetric about $x = 0$. Let us set our anharmonic oscillator going with amplitude $a$. That is, at $t = 0$ we release it from rest at position $x = a$ and it swings back towards the origin. Then at $t = 0$ we have $dx/dt = 0$ and the equation for its total energy becomes $E = V(a)$, i.e., the total energy of the particle is given in terms of the amplitude.\n",
    "\n",
    "When the particle reaches the origin for the first time, it has gone through one quarter of a period of the oscillator. The period $T$ is given by: $$ T = \\sqrt{8m} \\int_0^a \\frac{dx}{\\sqrt{V(a)-V(x)}}. $$\n",
    "\n",
    "1. Suppose the potential is $V(x) = x^4$ and the mass of the particle is $m = 1$. Write a Python function that calculates the period of the oscillator for given amplitude a using Gaussian quadrature with $N = 20$ points. Describe each step clearly and concisely. *(16 pts.; 8 pts. for the code & 8 pts. for the discussion text)*\n",
    "\n",
    "2. Use your function to make a graph of the period for amplitudes ranging from $a = 0$ to $a = 2$. Describe the behavior you find and explain these results clearly and concisely. *(14 pts.; 7 pts. for the plot & 7 pts. for the discussion text)*"
   ]
  },
  {
   "cell_type": "code",
   "execution_count": null,
   "metadata": {
    "id": "p28JF-OQYock"
   },
   "outputs": [],
   "source": []
  },
  {
   "cell_type": "markdown",
   "metadata": {
    "id": "BY5x-mZsYoqG"
   },
   "source": [
    "### PROBLEM 5 (20 pts.)\n",
    "\n",
    "**Differentiation using central difference**\n",
    "\n",
    "1. Calculate the derivative of the function $1 + \\frac{1}{2} \\tanh 2x$ in the range $-2 \\le x \\le 2$ using central difference. Describe each step of the calculation clearly and concisely. *(10 pts.; 5 pts. for the code & 5 pts. for the discussion text)*\n",
    "\n",
    "2. Calculate an analytic formula for the derivative and make a graph with your numerical result and the analytic answer on the same plot. Plot the exact answer as lines and the numerical one as dots. Describe how the two results compare. *(10 pts.; 5 pts. for the code & 5 pts. for the discussion text)*"
   ]
  },
  {
   "cell_type": "code",
   "execution_count": null,
   "metadata": {
    "id": "ZWXWJyYdLS5G"
   },
   "outputs": [],
   "source": []
  }
 ],
 "metadata": {
  "colab": {
   "authorship_tag": "ABX9TyNHUnamZBIihPLIv+UH5kbe",
   "provenance": []
  },
  "kernelspec": {
   "display_name": "Python 3 (ipykernel)",
   "language": "python",
   "name": "python3"
  },
  "language_info": {
   "codemirror_mode": {
    "name": "ipython",
    "version": 3
   },
   "file_extension": ".py",
   "mimetype": "text/x-python",
   "name": "python",
   "nbconvert_exporter": "python",
   "pygments_lexer": "ipython3",
   "version": "3.9.12"
  }
 },
 "nbformat": 4,
 "nbformat_minor": 1
}
