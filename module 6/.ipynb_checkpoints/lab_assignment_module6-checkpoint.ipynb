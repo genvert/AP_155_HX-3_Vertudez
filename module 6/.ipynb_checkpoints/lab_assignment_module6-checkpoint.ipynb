{
 "cells": [
  {
   "cell_type": "markdown",
   "metadata": {
    "id": "G0BcK0H_G1Iu"
   },
   "source": [
    "# **AP155 Lab Assignment** \n",
    "## Module 7: Random Process and Monte Carlo Methods\n",
    "\n",
    "_Instructions_: Answer each problem as completely as you can. Discuss **all** your answers as clearly and concisely as possible. \n",
    "\n",
    "_Scoring Criteria_: 50% - *correctness of code*; 50% - *discussion of the code and results*. Maximum score is **100 points** (Problems 1 and 2 are worth 30 and 70 points, respectively).\n",
    "\n",
    "_Due Date_: **5PM of January 7 (Fri)**\n"
   ]
  },
  {
   "cell_type": "markdown",
   "metadata": {
    "id": "PeHZ9kP8JaVR"
   },
   "source": [
    "### Student Information \n",
    "\n",
    "_Full Name (Last Name, First Name)_: Vertudez, Genesis\\\n",
    "_Student No._: 202003099\\\n",
    "_Section_: HX-3"
   ]
  },
  {
   "cell_type": "markdown",
   "metadata": {
    "id": "Hc183co-J4eI"
   },
   "source": [
    "### Submission Information\n",
    "\n",
    "_Date and Time Submitted (most recent upload)_: \n",
    "\n",
    "**HONOR PLEDGE** I affirm that I have upheld the highest principles of honesty and integrity in my academic work and that this lab assignment is my own work.\n",
    "\n",
    "**Sign here with your full name:** GENESIS R. VERTUDEZ"
   ]
  },
  {
   "cell_type": "markdown",
   "metadata": {
    "id": "c4UEpIRtGbM2"
   },
   "source": [
    "### Grading Information (c/o Lab Instructor)\n",
    "\n",
    "TOTAL SCORE: **[]**/100\n",
    "\n",
    "Score breakdown:\n",
    "* Problem 1 - []/30\n",
    "* Problem 2 - []/70\n",
    "\n",
    "_Date and Time Scored (MM/DD/YYYY HH:MM AM/PM):_ "
   ]
  },
  {
   "cell_type": "markdown",
   "metadata": {
    "id": "WmSjAg6ROj1S"
   },
   "source": [
    "### PROBLEM 1 (30 pts.; 50/50 for code & discussion) \n",
    "**Integration with Monte Carlo methods**\n",
    "\n",
    "_Refer to Exercise 10.5 in the Newman text_ \n",
    "\n",
    "1. Evaluate this integral \n",
    "$$ I = \\int_0^2 \\sin^2\\left[\\frac{1}{x(2-x)}\\right] {\\rm d}x.$$\n",
    "using the \"hit-or-miss\" Monte Carlo method of Section 10.2 with 10,000 points. Also evaluate the error on your estimate. *(15 pts.)*\n",
    "\n",
    "2. Now estimate the integral again using the mean value method with 10,000 points. Also evaluate the error. *(15 pts.)*"
   ]
  },
  {
   "cell_type": "code",
   "execution_count": 3,
   "metadata": {
    "id": "A1LCdAVm7FIi"
   },
   "outputs": [],
   "source": [
    "# import libraries \n",
    "from math import sin\n",
    "from random import random\n",
    "import numpy as np\n",
    "import matplotlib.pyplot as plt"
   ]
  },
  {
   "cell_type": "code",
   "execution_count": 4,
   "metadata": {},
   "outputs": [
    {
     "name": "stdout",
     "output_type": "stream",
     "text": [
      "Integral estimate using hit-or-miss method: 1.4454\n",
      "Error: 0.8953316927262207 %\n"
     ]
    }
   ],
   "source": [
    "# 1.\n",
    "# Hit-or-miss method\n",
    "\n",
    "# define the function given\n",
    "def f(x):\n",
    "    return (sin(1/(x*(2-x))))**2\n",
    "\n",
    "N = 10000    # number of 'random' sample points to be generated\n",
    "k = 0        # initialize number of generated points that is under the curve f(x)\n",
    "\n",
    "for i in range(N):     # loop N times to generate N number of points\n",
    "    x = 2*random()     # generate a 'random' x-coordinate from 0 to 2 (domain of integration)\n",
    "    y = random()       # generate a 'random' y-coordinate from 0 to 1 (range of integration)\n",
    "    if y < f(x):       # if generated point is below the curve, increment counter k\n",
    "        k += 1\n",
    "\n",
    "A = 2*1\n",
    "I = A*k/N              # integral estimate where 2 is the area of the rectangle formed by bounds\n",
    "print('Integral estimate using hit-or-miss method: {}'.format(I))\n",
    "\n",
    "error = 100*(I*(A-I))**0.5/N**0.5\n",
    "print('Error: {} %'.format(error))"
   ]
  },
  {
   "cell_type": "code",
   "execution_count": 5,
   "metadata": {},
   "outputs": [
    {
     "name": "stdout",
     "output_type": "stream",
     "text": [
      "Integral estimate using mean value method: 1.453474235193223\n",
      "Error: 0.6703447714402416 %\n"
     ]
    }
   ],
   "source": [
    "# 2.\n",
    "# Mean value method\n",
    "\n",
    "a = 0     # lower bound\n",
    "b = 2     # upper bound\n",
    "\n",
    "var_list = []    # initialize list of x values to compute variance\n",
    "s = 0            # initialize sum\n",
    "for i in range(N):    # loop N times to generate N number of points\n",
    "    x = 2*random()    # generate a 'random' x-coordinate from 0 to 2 (domain of integration)\n",
    "    var_list.append(x)\n",
    "    s += f(x)         # add function values based on the generated random x value\n",
    "mean = s/N        # divide sum by N to get mean\n",
    "\n",
    "I = (b-a)*mean        # integral estimate\n",
    "print('Integral estimate using mean value method: {}'.format(I))\n",
    "\n",
    "from numpy import var\n",
    "varf = var(var_list)   # compute variance using numpy.var\n",
    "\n",
    "error = 100*(b-a)*(varf)/N**0.5\n",
    "print('Error: {} %'.format(error))"
   ]
  },
  {
   "cell_type": "markdown",
   "metadata": {
    "id": "LxWuqiCFMsEh"
   },
   "source": [
    "### PROBLEM 2 (70 pts.; 50/50 for code & discussion) \n",
    "**The Ising model**\n",
    "\n",
    "_Refer to Exercise 10.9 in the Newman text._ The Ising model is a theoretical model of a magnet. The magnetic potential energy due to the interaction of two dipoles is proportional to their dot product, but in the Ising model this simplifies to just the product $s_i s_j$ for spins on sites $i$ and $j$ of the lattice, since the spins are one-dimensional scalars, not vectors. Then the actual energy of interaction is $-Js_i s_j$, where $J$ is a positive interaction constant. The minus sign ensures that the in- teractions are ferromagnetic, meaning the energy is lower when dipoles are lined up. A ferromagnetic interaction implies that the material will magnetize if given the chance.\n",
    "\n",
    "Normally it is assumed that spins interact only with those that are immediately adjacent to them on the lattice, which gives a total energy for the entire system equal to\n",
    "$$ E = -J \\sum_{\\langle ij \\rangle} s_i s_j,$$\n",
    "where the notation $\\langle ij \\rangle$ indicates a sum over pairs $i,j$ that are adjacent on the lattice. On the square lattice we use in this exercise each spin has four adjacent neighbors with which it interacts, except for the spins at the edges of the lattice, which have either two or three neighbors.\n",
    "\n",
    "Perform a Markov chain Monte Carlo simulation of the Ising model on the square lattice for a system of 20 x 20 spins. You will need to set up variables to hold the value ±1 of the spin on each lattice site, probably using a two-dimensional integer array, and then take the following steps.\n",
    "\n",
    "1. Write a function to calculate the total energy of the system, as given by the equation above. That is, for a given array of values of the spins, go through every pair of adjacent spins and add up the contributions $s_i s_j$ from all of them, then multiply by $-J$. Hint 1: Each unique pair of adjacent spins crops up only once in the sum. Thus there is a term $-Js_1s_2$ if spins 1 and 2 are adjacent to one another, but you do not also need a term $-Js_2s_1$. Hint 2: To make your final program to run in a reasonable amount of time, you will find it helpful if you can work out a way to calculate the energy using Python's ability to do arithmetic with entire arrays at once. If you do the calculation step by step, your program will be significantly slower. *(20 pts.)*\n",
    "\n",
    "2. Now use your function as the basis for a Metropolis-style simulation of the Ising model with $J = 1$ and temperature $T = 1$ in units where the Boltzmann constant $k_B$ is also 1. Initially set the spin variables randomly to ±1, so that on average about a half of them are up and a half down, giving a total magneti- zation of roughly zero. Then choose a spin at random, flip it, and calculate the new energy after it is flipped, and hence also the change in energy as a result of the flip. Then decide whether to accept the flip using the Metropolis acceptance formula, Eq. (10.60). If the move is rejected you will have to flip the spin back to where it was. Otherwise you keep the flipped spip. Now repeat this process for many moves. *(20 pts.)*\n",
    "\n",
    "3. Make a plot of the total magnetization $M = \\sum_i s_i$ of the system as a function of time for a million Monte Carlo steps. You should see that the system develops a \"spontaneous magnetization,\" a nonzero value of the overall magnetization. Hint: While you are working on your program, do shorter runs, of maybe ten thousand steps at a time. Once you have it working properly, do a longer run of a million steps to get the final results. *(20 pts.)*\n",
    "\n",
    "4. Run your program several times and observe the sign of the magnetization that develops, positive or negative. Describe what you find and give a brief explana- tion of what is happening. *(10 pts.)*"
   ]
  },
  {
   "cell_type": "code",
   "execution_count": 19,
   "metadata": {},
   "outputs": [],
   "source": [
    "def get_energy(lattice, J=1):    # define function to get total energy of a system, J is the positive interaction constant\n",
    "    n, m = lattice.shape\n",
    "    s = 0\n",
    "    \n",
    "    # to not repeat an addend, we start at uppermost left cell, then calculate energy contribution to its right and below\n",
    "    for i in range(n):\n",
    "        for j in range(m):\n",
    "            if i == n-1 and j == m-1:    # if i,j is the last corner (bottom right), contribute nothing because it will\n",
    "                                                # have been done by previous cell in the lattice\n",
    "                s += 0\n",
    "            elif i == n-1:               # if i is last in the row, contribute only the cell below\n",
    "                                                # (because cell to its right does not exist and out of bound index)\n",
    "                s += lattice[i,j]*(lattice[i,j+1])\n",
    "            elif j == m-1:               # if j is last in the column, contribute only the cell to its right\n",
    "                                                # (because cell below does not exist and out of bound index)\n",
    "                s += lattice[i,j]*(lattice[i+1,j])\n",
    "            else:                        # if cell is somewhere in the middle, then contribute both to its right and below\n",
    "                s += lattice[i,j]*(lattice[i+1,j] + lattice[i,j+1])\n",
    "                \n",
    "    energy = -J*s    # total energy equation\n",
    "    return energy\n",
    "\n",
    "def get_magnet(lattice):\n",
    "    n, m = lattice.shape\n",
    "    \n",
    "    magnet = 0\n",
    "    for i in range(n):\n",
    "        for j in range(m):\n",
    "            magnet += lattice[i,j]\n",
    "            \n",
    "    return magnet"
   ]
  },
  {
   "cell_type": "code",
   "execution_count": 18,
   "metadata": {},
   "outputs": [],
   "source": [
    "from random import randrange\n",
    "from numpy import copy, exp\n",
    "\n",
    "def lattice_update(lattice):\n",
    "    E_i = get_energy(lattice)      # get energy of current lattice\n",
    "\n",
    "    x = randrange(N)               # generate x,y coordinate of random lattice cell\n",
    "    y = randrange(N)\n",
    "\n",
    "    lattice_new = copy(lattice)    # make a copy of the lattice\n",
    "    lattice_new[x,y] *= -1         # invert spin of the random cell\n",
    "\n",
    "    E_f = get_energy(lattice_new)  # get energy of the new lattice\n",
    "\n",
    "    dE = E_f - E_i                 # change in energy\n",
    "\n",
    "    # cosntants\n",
    "    k_b = 1\n",
    "    T = 1\n",
    "    \n",
    "    if dE <= 0:                    # if energy decreases or stays the same, keep new lattice\n",
    "        lattice = lattice_new\n",
    "    else:                          # if energy increases, probability to keep new lattice is based on acceptance formula\n",
    "        p = exp(-dE/(k_b*T))       # acceptance formula (since dE > 0, this will be [0,1))\n",
    "        r = random()               # generate random number from 0 to 1\n",
    "        if r <= p:                 # if random number < probability, then accept\n",
    "            lattice = lattice_new\n",
    "        else:                      # else reject and revert to original\n",
    "            pass\n",
    "            \n",
    "    return lattice"
   ]
  },
  {
   "cell_type": "code",
   "execution_count": 44,
   "metadata": {
    "id": "hMqWOsbIMoUh",
    "scrolled": false
   },
   "outputs": [
    {
     "data": {
      "text/plain": [
       "<matplotlib.image.AxesImage at 0x21b78ae3e20>"
      ]
     },
     "execution_count": 44,
     "metadata": {},
     "output_type": "execute_result"
    },
    {
     "data": {
      "image/png": "[encoded data removed]",
      "text/plain": [
       "<Figure size 640x480 with 1 Axes>"
      ]
     },
     "metadata": {},
     "output_type": "display_data"
    }
   ],
   "source": [
    "N = 20    # size of lattice (NxN)\n",
    "\n",
    "lattice = np.random.choice([-1,1], size = [N,N])    # create lattice of spin ups and downs (or QR code)\n",
    "plt.imshow(lattice, cmap = 'gray')"
   ]
  },
  {
   "cell_type": "code",
   "execution_count": null,
   "metadata": {},
   "outputs": [],
   "source": [
    "steps = 1000000\n",
    "\n",
    "magnet_list = []           # initialize list of magnetization of lattice\n",
    "for s in range(steps):\n",
    "    lattice = lattice_update(lattice)         # update lattice every step\n",
    "    magnet_list.append(get_magnet(lattice))   # get magnetization of updated lattice every step\n",
    "plt.imshow(lattice, cmap = 'gray')"
   ]
  },
  {
   "cell_type": "code",
   "execution_count": null,
   "metadata": {},
   "outputs": [],
   "source": []
  }
 ],
 "metadata": {
  "colab": {
   "authorship_tag": "ABX9TyMqetq6go7AiWtXcusUQ5Wa",
   "name": "lab_assignment_module7.ipynb",
   "provenance": [
    {
     "file_id": "1FJlZnhC4nq-8ag5P6s8R5x9AryccJwSV",
     "timestamp": 1598775074680
    }
   ]
  },
  "kernelspec": {
   "display_name": "Python 3 (ipykernel)",
   "language": "python",
   "name": "python3"
  },
  "language_info": {
   "codemirror_mode": {
    "name": "ipython",
    "version": 3
   },
   "file_extension": ".py",
   "mimetype": "text/x-python",
   "name": "python",
   "nbconvert_exporter": "python",
   "pygments_lexer": "ipython3",
   "version": "3.9.13"
  }
 },
 "nbformat": 4,
 "nbformat_minor": 1
}
